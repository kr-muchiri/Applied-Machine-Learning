{
 "cells": [
  {
   "cell_type": "markdown",
   "metadata": {},
   "source": [
    "# DSC 305 Lab 2: Wine Reviews\n",
    "\n",
    "## Objectives\n",
    "\n",
    "**The purpose of this lab is to help you gain experience exploring and visualizing data.**  In this lab you will:\n",
    "\n",
    "* Gain experience using **pandas** to interact with data. \n",
    "* Practice using a variety of tools \n",
    "  * to perform an **exploratory analysis** and \n",
    "  * to answer basic questions involving data.\n",
    "* Gain experience **visualizing data** using tools such as **Matplotlib**.\n",
    "\n",
    "## _General instructions_\n",
    "\n",
    "_Review the General Instructions for Lab Reports and the Lab Scoring Rubric. You will find those at the top of our course page on Moodle. You may also want to review the instructions for Lab 1 in case there are reminders there that apply here._\n",
    "\n",
    "_You may be working with a lab partner on this assignment. Be sure to include your partner's name along with your own in the first Markdown cell of the assignment._\n",
    "\n",
    "_**Remember that while you and your lab partner will colaborate on the code and on the basic work involving the data set, you will write your report and submit it independently. If you both submit the same discussion (in the Markdown cells), I will give the assignment one score and divide it between you.**_\n",
    "\n",
    "_Don't forget to rename your file. The format for all the labs is:_ `dsc305_lab02_lastname_firstname.ipynb`. \n",
    "\n",
    "* _The instructions include problems in **bold text**.  Leave these intact to help organize your work and to help me know which problem your are solving._\n",
    "\n",
    "* _The starter files contain additional instructions in_ italics _that you should delete before submitting your solution._ \n",
    "\n",
    "* _Once you have completed the assignment, upload your file along with anything else that I need to recompile (run) your Notebook from start to finish. If any cell shows an error message or warning, you will receive a reduced score._\n",
    "\n",
    "_Be sure to follow the instructions carefully for the labs. By following the instructions, you make it easier for me to assess your lab and get prompt feedback to everyone in time for your work on the subsequent lab. If you do not follow the instructions&mdash;even small things such as filenames or including data files&mdash;you will receive a reduced score._\n",
    "\n",
    "# _Your work starts here. Good luck!_"
   ]
  },
  {
   "cell_type": "markdown",
   "metadata": {},
   "source": [
    "_All of your files should start with a Markdown box with the following information on separate lines (you can make Markdown include linebreaks with two spaces at the end of the line, or you can use HTML tags if you prefer):_\n",
    "\n",
    "your name (e.g., Yennefer of Vengerberg);  \n",
    "name of your lab partner (e.g., Geralt of Rivia);  \n",
    "course designation and semester (DSC 305A S22); and  \n",
    "name of the assignment (e.g., Lab 2: Wine Reviews)."
   ]
  },
  {
   "cell_type": "code",
   "execution_count": 1,
   "metadata": {},
   "outputs": [],
   "source": [
    "# Import any Python packages that you need here.\n",
    "# All import statements should be in your first code cell. Example:\n",
    "# # import pandas as pd\n",
    "# # from math import sin, asin"
   ]
  },
  {
   "cell_type": "markdown",
   "metadata": {},
   "source": [
    "**1. Use pandas to import the [Wine Reviews dataset](https://www.kaggle.com/zynicide/wine-reviews) from Kaggle.**\n",
    "\n",
    "_Note that there is more than one dataset on the page linked above.  We will be working with `winemag-data-130k-v2.csv`.  Make sure you are working with the correct dataset._  \n",
    "\n",
    "_Take a few minutes to read the Kaggle site to learn more about the data set._\n",
    "\n",
    "_Import the dataset using pandas and work with it using Python, Pandas, Matplotlib, and, optionally, Seaborn and NumPy, to answer the following questions.  Your answers will consist of one or more cells in your notebook that performs the necessary calculations and, in most cases, one or more sentences in English that summarize your answer._"
   ]
  },
  {
   "cell_type": "code",
   "execution_count": 2,
   "metadata": {},
   "outputs": [],
   "source": [
    "# Your code for this step goes here. \n",
    "# Be sure to replace this comment."
   ]
  },
  {
   "cell_type": "markdown",
   "metadata": {},
   "source": [
    "**2. Note that some fields (columns) have missing data. List, in order, the 3 fields with the most missing data (as a percentage of total data).** "
   ]
  },
  {
   "cell_type": "markdown",
   "metadata": {},
   "source": [
    "**3. Is *price* missing for any record (row)? What abour *points*?**"
   ]
  },
  {
   "cell_type": "code",
   "execution_count": 3,
   "metadata": {},
   "outputs": [],
   "source": [
    "# Your code for this step goes here. "
   ]
  },
  {
   "cell_type": "markdown",
   "metadata": {},
   "source": [
    "**4. List all the values that occur in the country column, along with the number of rows that corresponds to each country. Sort the resulting aggregated dataset in order of decreasing number.**"
   ]
  },
  {
   "cell_type": "code",
   "execution_count": 4,
   "metadata": {},
   "outputs": [],
   "source": [
    "# Your code for this step goes here.\n",
    "# I won't keep inserting these for you. \n",
    "# You know what to do--alternate code and discussion. Good luck!"
   ]
  },
  {
   "cell_type": "markdown",
   "metadata": {},
   "source": [
    "**5. Are any wines associated with province Kentucky in the USA? List the wineries with province Kentucky. Separately, list all the varieties grown in Kentucky.** *(If you cannot locate any wines produced in Kentucky, then choose Idaho for this question instead.)*"
   ]
  },
  {
   "cell_type": "markdown",
   "metadata": {},
   "source": [
    "**6. Can you identify any other problems involving the data set, such as duplicate entries or irrelevant columns (features)?  Clean the dataset by addressing each issue that you discover.**"
   ]
  },
  {
   "cell_type": "markdown",
   "metadata": {},
   "source": [
    "**7. Are there any wines that are not exact duplicates, but nevertheless have exactly the same description? If so, is there an apparent explanation for this? For example, maybe it is the same wine?**"
   ]
  },
  {
   "cell_type": "markdown",
   "metadata": {},
   "source": [
    "**8. What is the highest price for any wine? How many different wines have that price (there could be ties)? Give the designation of at least one wine with highest price, along with the vineyard and variety.** "
   ]
  },
  {
   "cell_type": "markdown",
   "metadata": {},
   "source": [
    "**9. List all countries along with the average price and the average points of all wines associated with that country.  Sort the list by price and (in case there are ties), next by points, and finally alphabetically by country name.** "
   ]
  },
  {
   "cell_type": "markdown",
   "metadata": {},
   "source": [
    "**10. List all of the states (province) that occur in the US that occur in the dataset. List the states in alphabetical order. For each state, list the following statistics for points and price: number of rows for that state that have a value (sample size $N$), minimum value, maximum value, mean (average), median, standard deviation.** \n",
    "\n",
    "*(Note that if there is missing data, such as price, then the value of $N$ may be different for price and points.)*\n",
    "\n",
    "*Follow [this link](https://stackoverflow.com/questions/14529838/apply-multiple-functions-to-multiple-groupby-columns) for a hint on how to perform this kind of aggregation.*"
   ]
  },
  {
   "cell_type": "markdown",
   "metadata": {},
   "source": [
    "**11. Use Matplotlib or Seaborn to construct a scatter plot of the price of Argentine wines and the points assigned to each wine in the review.** \n",
    "\n",
    "*Use `price` as your $X$ axis and `points` as your $Y$ axis. Be sure to label your axes and your graph.*"
   ]
  },
  {
   "cell_type": "markdown",
   "metadata": {},
   "source": [
    "**12. Construct an effective data visualization showing the relative contribution of the reviewers (\"tasters\"). The chart should show the individual contribution of the top nine reviewers, with all other reviewers aggregated as Other.**\n",
    "\n",
    "*Note that I am leaving it up to you to consider the most effective way to present your data. Before you do this, I encourage you to read the article: Jeffrey D. Camm, Michael J. Fry, Jeffrey Shaffer (2017) A Practitioner’s Guide to Best Practices in Data Visualization. INFORMS Journal on Applied Analytics 47(6):473-488. https://doi.org/10.1287/inte.2017.0916 (posted to Moodle).*"
   ]
  },
  {
   "cell_type": "markdown",
   "metadata": {},
   "source": [
    "**Discussion. Suppose you wanted to build a predictive model to predict the *variety* and *points* assigned to the wine based only on the words in the *description*. Briefly describe how you would go about this using knowledge that you already have from DSC 205 or other courses.** \n",
    "\n",
    "*Note that you are not being asked to actually build the model! For now, think about the problem and how you could approach it with the tools and knowledge you already have at your disposal. This will be helpful to you as we begin discussing various ways of modeling this type of problem. Note that I am looking for thoughtful consideration of the modeling problem, not \"I would use a Jupyter Notebook and sklearn to solve the problem.\" That is not modeling. That is using a package.* "
   ]
  }
 ],
 "metadata": {
  "kernelspec": {
   "display_name": "Python 3 (ipykernel)",
   "language": "python",
   "name": "python3"
  },
  "language_info": {
   "codemirror_mode": {
    "name": "ipython",
    "version": 3
   },
   "file_extension": ".py",
   "mimetype": "text/x-python",
   "name": "python",
   "nbconvert_exporter": "python",
   "pygments_lexer": "ipython3",
   "version": "3.8.13"
  }
 },
 "nbformat": 4,
 "nbformat_minor": 2
}

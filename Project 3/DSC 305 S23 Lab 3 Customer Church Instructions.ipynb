{
 "cells": [
  {
   "cell_type": "markdown",
   "id": "3ed6c342",
   "metadata": {},
   "source": [
    "# Lab 3 Exploration: Customer Churn \n",
    "\n",
    "## Objectives\n",
    "\n",
    "**The purpose of this lab is to help you gain experience preparing data, fitting a logistic regression model, and evaluating the model's performance.**  \n",
    "\n",
    "In this lab you will:\n",
    "\n",
    "* Explore a synthetic [**customer churn**](https://en.wikipedia.org/wiki/Customer_attrition) dataset.\n",
    "* Gain additional experience with an expanding data science tool kit including:\n",
    "  * Jupyter Notebook\n",
    "  * Python3\n",
    "  * Pandas\n",
    "  * Matplotlib\n",
    "  * [NumPy](https://numpy.org/)\n",
    "  * and [**sklearn**](https://scikit-learn.org/stable/).\n",
    "* Learn to model data in Python using **logistic regression**.\n",
    "* Learn how to obtain the **probability of an outcome** from a logistic regression model.\n",
    "* Learn to **evaluate a classification learning model** in Python with the help of:\n",
    "  * **test set**,\n",
    "  * metrics such as **accuracy score**, **precision**, **recall**, and **F1 score** for the two classes, \n",
    "  * **confusion matrix**, and\n",
    "  * **receiver-operating characteristic (ROC) curve** and **AUC score**.\n",
    "  \n",
    "## *Scenario*\n",
    "\n",
    "*Congratulations! You've been hired as an intern by Acme Telecommunications. They want to predict which customers are likely to \"churn\" (switch to another company) soon. Acme also wants your advice. They want to offer incentives to get customers to stay. If your prediction is right, the offer may help keep the customer with Acme. If your prediction is wrong, they may offer the incentives to the wrong customer! Here is the data, they say. The rest is up to you! Oh, your report is due tomorrow. (Just kidding, you have two weeks.)*\n",
    "\n",
    "*Note: While the data is simulated ([it was created by IBM](https://community.ibm.com/community/user/businessanalytics/blogs/steven-macko/2019/07/11/telco-customer-churn-1113) as a teaching resource&mdash;releasing real data of this sort would be difficult because of concerns about privacy and the release of proprietary data), predicting customer churn is an important business analytics problem. (If you'd like to work on this problem with a real dataset, you will find no shortage of opportunities!)*\n",
    "\n",
    "## _General instructions_\n",
    "\n",
    "_Review Lab 0 for an example of what I am looking for in these data analytics projects. You may also want to review your earlier labs for reminders that apply here._\n",
    "\n",
    "_You will probably be working with a lab partner on this assignment. Be sure to include your partner's name along with your own in the first Markdown cell of the assignment._\n",
    "\n",
    "_**Remember that while you and your lab partner will colaborate on the code and on the basic work involving the data set, you will write your report and submit it independently.**_\n",
    "\n",
    "_Don't forget to rename your file. The format for all the labs is:_ `dsc305_lab03_lastname_firstname.ipynb`. \n",
    "\n",
    "* _The instructions include problems in **bold text**.  Leave these mostly intact to help organize your work and to help me know which problem you are solving._\n",
    "\n",
    "* _The starter files contain additional instructions in_ italics _that you should delete before submitting your solution._ \n",
    "\n",
    "* _Remember that your report should consist of Markdown cells describing what you are doing and highlighting important results as you go. It should not just consist of code and output, with a sentence or two at the end. Your writing should adopt a professional tone, using complete sentences. Please proofread._\n",
    "\n",
    "* _Once you have completed the assignment, upload your file along with ALL data files that you import from a local directory. Your submission should include everything I need to recompile (run) it from start to finish. If any cell shows an error message or warning, you will receive a reduced score._\n",
    "\n",
    "_Be sure to follow the instructions carefully for the labs. By following the instructions, you make it easier for me to assess your lab and get prompt feedback to everyone in time for your work on the subsequent lab. If you do not follow the instructions&mdash;even small things such as filenames or including data files&mdash;you will receive a reduced score._\n",
    "\n",
    "# _Your work starts here. Good luck!_"
   ]
  },
  {
   "cell_type": "markdown",
   "id": "76006a9f",
   "metadata": {},
   "source": [
    "_All of your files should start with a Markdown box with the following information on separate lines (you can make Markdown include linebreaks with two spaces at the end of the line, or you can use HTML tags if you prefer):_\n",
    "\n",
    "your name (e.g., Yennefer of Vengerberg);  \n",
    "name of your lab partner (e.g., Geralt of Rivia);  \n",
    "course designation and semester (DSC 305A S22); and  \n",
    "name of the assignment (e.g., Lab 3: Customer Churn)."
   ]
  },
  {
   "cell_type": "code",
   "execution_count": 1,
   "id": "78c7bc5b",
   "metadata": {},
   "outputs": [],
   "source": [
    "# Import any Python packages that you need here.\n",
    "# All import statements should be in your first code cell. "
   ]
  },
  {
   "cell_type": "code",
   "execution_count": 2,
   "id": "62a990aa",
   "metadata": {},
   "outputs": [],
   "source": [
    "# You may also want to collect any helper functions\n",
    "# that you write into one place, if they are used to \n",
    "# answer multiple questions during your analysis. "
   ]
  },
  {
   "cell_type": "markdown",
   "id": "45b85079",
   "metadata": {},
   "source": [
    "## Exploratory Data Analysis\n",
    "\n",
    "**[Visit Kaggle to read the description and download the TelCo Customer Church dataset:](https://www.kaggle.com/blastchar/telco-customer-churn)**\n",
    "\n",
    "*Insert a Code cell below. In it, import the dataset. Here is the link: [https://www.kaggle.com/blastchar/telco-customer-churn](https://www.kaggle.com/blastchar/telco-customer-churn). Dataset also available with this lab on Moodle.*"
   ]
  },
  {
   "cell_type": "markdown",
   "id": "80f78df3",
   "metadata": {},
   "source": [
    "**Explore the dataset carefully.**\n",
    "\n",
    "*Exploratory data analysis is an important step. Invest the time it takes to better understand the dataset. What are the features? Are they numeric? ordinal? categorical? Are they binary or multivalued? When you view the distribution of one or more features (variables), what do you see? What are the values? Are there missing values? Are there repeated rows? Use Pandas, Matplotlib, and other tools you have discovered in this class to gain a solid understanding of the data. Don't do any data prep or modeling yet. For now, you are just exploring the problem, not changing anything.* "
   ]
  },
  {
   "cell_type": "markdown",
   "id": "cd0290ed",
   "metadata": {},
   "source": [
    "## Prepare Data for Model Building\n",
    "\n",
    "**Clean the data, encode it, and take whatever other steps are necessary for modeling building.**\n",
    "\n",
    "*Hint: You may find that one of the series in your DataFrame actually consists of strings rather than floats. You will have to resolve this problem before you can scale the data or fit a logistic regression model. Specifically, what does `' '` mean in a numeric column?* "
   ]
  },
  {
   "cell_type": "markdown",
   "id": "8530b7e2",
   "metadata": {},
   "source": [
    "**Perform train-test split to partition your data into a training (80%) and test set (20%). Use stratified sampling to make sure each set contains a proportional number of customers who stay or leave the company.**"
   ]
  },
  {
   "cell_type": "markdown",
   "id": "b512fbf0",
   "metadata": {},
   "source": [
    "**Scale your data using an appropriate feature-scaling method.**\n",
    "\n",
    "*We have discussed several feature-scaling methods: min-max scaler, standard scaler, and robust scaler. My favorite is standard scaler, unless there are a lot of outliers, in which case robust scaler may be helpful. Remember to fit the scaling parameters only on the training set and then apply those to the training and test sets. If you forget this, then there will be data leakage, resulting in a minimum two-letter grade deduction. Future assignments will not always remind you of this.*"
   ]
  },
  {
   "cell_type": "markdown",
   "id": "7d0f8177",
   "metadata": {},
   "source": [
    "## Fit a Logistic Regression Model\n",
    "\n",
    "**Fit a logistic regression model to your training set.**\n",
    "\n",
    "*At this point, I'm not looking for anything fancy like ridge or lasso regression or comparison of multiple models. That will come in later assignments.*\n"
   ]
  },
  {
   "cell_type": "markdown",
   "id": "50e84f13",
   "metadata": {},
   "source": [
    "**Use your model to obtain the probability of churn of each customer given the data available to you.**\n",
    "\n",
    "*Many people know that logistic regression can be used to predict class membership. You should keep in mind that it can also be used to estimate the **probability** of class membership! This will be useful in deciding how to allocate incentives, for example, or in using your model to make any kind of **decision**.*"
   ]
  },
  {
   "cell_type": "markdown",
   "id": "d2af42b8",
   "metadata": {},
   "source": [
    "**As a baseline, evaluate the model on your *training* set.**\n",
    "\n",
    "*Note that you will not always do this, but if you can't learn the training data, there is no hope of your model generalizing to the test data, right?*"
   ]
  },
  {
   "cell_type": "markdown",
   "id": "1c8bc1c5",
   "metadata": {},
   "source": [
    "## Evaluate the Model\n",
    "\n",
    "**Evaluate the model on the test set. First, obtain basic metrics including accuracy score and precision, recall, F1 score, and support for the two classes.**\n"
   ]
  },
  {
   "cell_type": "markdown",
   "id": "ae4a22a3",
   "metadata": {},
   "source": [
    "**Display the confusion matrix for your model.**"
   ]
  },
  {
   "cell_type": "markdown",
   "id": "f5283c7b",
   "metadata": {},
   "source": [
    "**Display the ROC curve for your model as well as the ROC score.**"
   ]
  },
  {
   "cell_type": "markdown",
   "id": "5b2d0e4c",
   "metadata": {},
   "source": [
    "## Analysis\n",
    "\n",
    "**Discuss the performance of your model, especially with regards to the test set.** "
   ]
  },
  {
   "cell_type": "markdown",
   "id": "75faabf5",
   "metadata": {},
   "source": [
    "**Use your confusion matrix and ROC score to reason about how Acme can best apply its incentives to keep the most profitable customers. Note that while all parts of your work on this project are important, this is the part that senior management is most likely to read.**\n",
    "\n",
    "*This part of the exercise is intentionally less structured. It is up to you to think about the problem and draw conclusions. It is also the part of the exercise that will most interest your instructor since it isn't something you can just type in from the web. It will show that you have thought deeply about the problem.*"
   ]
  },
  {
   "cell_type": "markdown",
   "id": "02aeefba",
   "metadata": {},
   "source": [
    "## Conclusion\n",
    "\n",
    "**Briefly summarize what you accomplished in this lab in terms of the imagined data analytics problem?** \n",
    "\n",
    "*This is the kind of conclusion that you would write if you were submitting your work to your project manager.*\n",
    "\n",
    "**Briefly summarize what *you* learned in this lab.**\n",
    "\n",
    "*Here you are being asked to step back from the imagined problem scenario and reflect on what you have learned as a student. Note that you would **not** submit this kind of conclusion to your project manager!*\n"
   ]
  },
  {
   "cell_type": "markdown",
   "id": "061a9536",
   "metadata": {},
   "source": [
    "## Acknowledgements \n",
    "\n",
    "**This section is mainly to acknowledge anyone other than your lab partner who helped you in any way.**\n",
    "\n",
    "*Example: Jenna Graves helped me identify the bug in my code to plot the ROC curve.*\n",
    "\n",
    "**In a separate survey, I will ask you to discuss how things went in working with your lab partner. You are also free to address it here briefly if you wish.**\n",
    "\n"
   ]
  },
  {
   "cell_type": "markdown",
   "id": "134f2bcc",
   "metadata": {},
   "source": [
    "## References\n",
    "\n",
    "**Indicate any helpful references other than slides, notes, or examples given in class.**\n",
    "\n",
    "*If you found an article on Stack Overflow, a blog, or teaching site helpful, indicate it here. Note: I am always a little suspicious of work that is submitted without any references. Either the work is only the bare minimum (in which case there was not very much learning) or ... well, let's not go there. Bottom line: If you searched the web while doing your project, you should probably list some references here. If you didn't learn anything, you may leave this section blank.*"
   ]
  }
 ],
 "metadata": {
  "kernelspec": {
   "display_name": "Python 3 (ipykernel)",
   "language": "python",
   "name": "python3"
  },
  "language_info": {
   "codemirror_mode": {
    "name": "ipython",
    "version": 3
   },
   "file_extension": ".py",
   "mimetype": "text/x-python",
   "name": "python",
   "nbconvert_exporter": "python",
   "pygments_lexer": "ipython3",
   "version": "3.8.13"
  }
 },
 "nbformat": 4,
 "nbformat_minor": 5
}

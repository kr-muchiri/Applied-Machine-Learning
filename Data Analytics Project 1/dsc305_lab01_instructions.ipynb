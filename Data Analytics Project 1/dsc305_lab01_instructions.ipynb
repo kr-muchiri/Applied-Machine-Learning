{
 "cells": [
  {
   "cell_type": "markdown",
   "metadata": {},
   "source": [
    "# DSC 305 Lab 1: Getting Started\n",
    "\n",
    "## Objectives\n",
    "\n",
    "* Introduce the Jupyter Notebook environment. \n",
    "* Provide a brief review of Python programming skills, including: \n",
    "  * functions, \n",
    "  * nested loops, \n",
    "  * math operations, and \n",
    "  * importing packages. \n",
    "* Importing and working with a simple data set to answer questions.\n",
    "\n",
    "## _Overview_\n",
    "\n",
    "_To become an effective data scientist, you need extensive practice. Labs&mdash;weekly analytics assignments done outside of class&mdash;are an opportunity to strengthen your understanding of applied machine learning and other analytic methods.  While the value of each lab as a percent of your final grade is relatively small, the wisdom and experience you will gain from doing each lab will significantly help you on your tests and further career in data science and analytics._\n",
    "\n",
    "_The first lab is an introduction to the Jupyter Notebook environment and a review of fundamental programming skills in Python3. In most future labs, you will write code and analyze data in collaboration with a lab partner&mdash;and then independently write your report. **The first lab, however, is meant for you to do independently**&mdash;perhaps with some help from your instructor. We will be using the Jupyter environment for all of our labs and for the final project, so it is important that you are comfortable working in this environment._\n",
    "\n",
    "## _General instructions_\n",
    "\n",
    "_Your work will consist of code (in Code cells) and corresponding output, as well as formatted text (in Markdown cells).  In your lab reports, you will alternate between text exposition and code, sometimes with output in text or graphics.  You will describe what you are doing, provide the code to do it, and make observations.  A major advantage of the Jupyter Notebook type environment is that it allows you to submit your code, analytic work, and discussion as a single document that tells a \"story\" describing your work._\n",
    "\n",
    "* _First, rename your file:_  \n",
    "\n",
    "  * _Replace the word `instructions` with your last name, an underscore, and your first name._ \n",
    "  * _The `.ipynb` extension specifies that the file is an iPython (Jupyter) notebook file._ \n",
    "  * _Filename should be all lowercase.  So, if your name is Yennefer of Vengerberg, your file name would be_ `dsc305_lab01_vengerberg_yennefer.ipynb`. \n",
    "  * _This will be your file format for all future labs._ \n",
    "\n",
    "* _The files you start with include problems in **bold text**.  Solve each problem, explain your work, and analyze your results. Leave the instructions in place to help organize your work and to help me know which problem your are solving._\n",
    "\n",
    "* _Your code should be readable and should have occasional helpful comments._\n",
    "\n",
    "* _Alternate your code with Markdown cells describing what you are doing and summarizing your results._\n",
    "\n",
    "* _The starter files contain additional instructions in_ italics _that you should delete before submitting your solution._ \n",
    "\n",
    "* _Once you have completed the assignment, upload your file along with ALL data files that you import from a local directory. Your submission should include everything I need to recompile (run) it from start to finish. If any cell shows an error message or warning, you will receive a reduced score._\n",
    "\n",
    "_Be sure to follow the instructions carefully for the labs. By following the instructions, you make it easier for me to assess your lab and get prompt feedback to everyone in time for your work on the subsequent lab. If you do not follow the instructions&mdash;even small things such as filenames or including data files&mdash;you will receive a reduced score._\n",
    "\n",
    "# _Your work starts here. Good luck!_"
   ]
  },
  {
   "cell_type": "markdown",
   "metadata": {},
   "source": [
    "_All of your files should start with a Markdown box with the following information on separate lines (you can make Markdown include linebreaks with two spaces at the end of the line, or you can use HTML tags if you prefer):_\n",
    "\n",
    "your name (e.g., Yennefer of Vengerberg);  \n",
    "name of your lab partner (e.g., Geralt of Rivia);  \n",
    "course designation and semester (DSC 305A S20); and  \n",
    "name of the assignment (e.g., Lab 1: Getting Started)."
   ]
  },
  {
   "cell_type": "code",
   "execution_count": 1,
   "metadata": {},
   "outputs": [],
   "source": [
    "# Import any Python packages that you need here.\n",
    "# All import statements should be in your first code cell. Example:\n",
    "# # import pandas as pd\n",
    "# # from math import sin, asin"
   ]
  },
  {
   "cell_type": "markdown",
   "metadata": {},
   "source": [
    "**Import [this data file](https://raw.githubusercontent.com/jasperdebie/VisInfo/master/us-state-capitals.csv) containing the U.S. states and capitals and their geolocation (latitude and longitude).**\n",
    "\n",
    "*You may use pandas if you like (which we will cover in class just after starting this lab), or use the methods that you learned in CSC 220. Store the data in a suitable data structure, such as a pandas dataframe, Python dictionary, or 2D list.*"
   ]
  },
  {
   "cell_type": "code",
   "execution_count": 2,
   "metadata": {},
   "outputs": [],
   "source": [
    "# Your code for this step goes here. \n",
    "# Be sure to replace this comment."
   ]
  },
  {
   "cell_type": "markdown",
   "metadata": {},
   "source": [
    "**Look closely at your data.  Do you notice any problems?  If so, address them!**\n",
    "\n",
    "*Oops! It seems that the github contributor left in some HTML tags in importing the data from the web. Remove the `<br>` tags from the capitals and address any other problems that you discover.*"
   ]
  },
  {
   "cell_type": "code",
   "execution_count": 3,
   "metadata": {},
   "outputs": [],
   "source": [
    "# Your code for this step goes here. "
   ]
  },
  {
   "cell_type": "markdown",
   "metadata": {},
   "source": [
    "**Sort the capitals from west to east.**\n",
    "\n",
    "*Output the data in the format*\n",
    "``Atlanta, Georgia``\n",
    "*with one capital per line. Do not include the latitude and longitude fields.*"
   ]
  },
  {
   "cell_type": "code",
   "execution_count": 4,
   "metadata": {},
   "outputs": [],
   "source": [
    "# Your code goes here."
   ]
  },
  {
   "cell_type": "markdown",
   "metadata": {},
   "source": [
    "**Write a function, `distance(lat1, lon1, lat2, lon2)` that uses the [haversine formula](https://en.wikipedia.org/wiki/Haversine_formula) to estimate the distance between two locations (given as latitude and longitude, in _degrees_) on the earth's surface.**\n",
    "\n",
    "_The haversine formula (see link above) can be used to derive a distance between two points on a sphere, as follows:_\n",
    "\n",
    "$$d = 2r \\arcsin\\left(\\sqrt{\\sin^2\\left(\\frac{\\varphi_2 - \\varphi_1}{2}\\right) + \\cos(\\varphi_1) \\cos(\\varphi_2)\\sin^2\\left(\\frac{\\lambda_2 - \\lambda_1}{2}\\right)}\\right)$$\n",
    "\n",
    "_In the formula above, $\\varphi_1$ and $\\lambda_1$ are the latitude and longitude of the first location *in radians*, and $\\varphi_2$ and $\\lambda_2$ are those of the second *in radians*.  The $r$ in the formula is the earth's radius&mdash;that is, the distance from the center of the earth to the surface.  The earth isn't perfectly spherical, but you can use $r \\approx 3959$ miles as an approximation._\n",
    "\n",
    "_The formula may seem a little intimidating, but it is straightforward to compute. No loops! Remember that you can import from the math module. You are also welcome to experiment with NumPy if you like. Also note that latitude and longitude use *degrees* as units, but the formula above requires *radians*.  Recall that $360^{\\circ} = 2\\pi$ radians. The Python3 `math` package provides a function `radians` that converts degrees to radians._\n",
    "\n",
    "_**Important: Yes, there are packages that you can import that will compute the Haversine formula for you.  However, for this assignment, you should write the code yourself.**_\n",
    "\n",
    "_By the way, you may want to double-click on this Markdown cell to study how the formula above is typeset.  You can embed mathematical expressions directly into Markdown cells using $\\LaTeX$. For example, the Markdown code_\n",
    "\n",
    "`$$E = mc^2$$`\n",
    "\n",
    "_compiles into the familiar formula_\n",
    "\n",
    "$$E = mc^2$$\n",
    "\n",
    "*You can many more examples of how to typeset expressions at [this site](https://jupyter-notebook.readthedocs.io/en/stable/examples/Notebook/Typesetting%20Equations.html).*"
   ]
  },
  {
   "cell_type": "code",
   "execution_count": 5,
   "metadata": {},
   "outputs": [],
   "source": [
    "def distance(lat1, lon1, lat2, lon2):\n",
    "    return 0 # delete this line and write your function here"
   ]
  },
  {
   "cell_type": "markdown",
   "metadata": {},
   "source": [
    "**Use a few examples to verify that your formula is correct.**\n",
    "* _Here are some locations you can try:_\n",
    "  * _Danville, Kentucky, USA (37.6456° N, 84.7722° W)_\n",
    "  * _Frankfort, Kentucky, USA (38.1867° N, 84.8753° W)_\n",
    "  * _Frankfurt, Germany (50.1109° N, 8.6821° E)_\n",
    "* _The distance from Danville to Frankfort is about 38 miles._\n",
    "* _The distance from Danville to Frankfurt is about 4,421 mi (&plusmn; 0.5%)._\n",
    "* _The distance from any location to itself should be 0._"
   ]
  },
  {
   "cell_type": "markdown",
   "metadata": {},
   "source": [
    "**Use your function to compute the distance of every state capital from Danville, Kentucky.**"
   ]
  },
  {
   "cell_type": "code",
   "execution_count": 6,
   "metadata": {},
   "outputs": [],
   "source": [
    "# Your code goes here"
   ]
  },
  {
   "cell_type": "markdown",
   "metadata": {},
   "source": [
    "**Which two U.S. capitals are farthest apart? Which two are closest together?**\n",
    "\n",
    "*To answer these questions, you will need to write code to compare every location in your dataset to every other location in your dataset.  You can do this, for example, in a nested loop. Your output should provide the answer.  Also include a Markdown box in which you state what you have found.*"
   ]
  },
  {
   "cell_type": "code",
   "execution_count": 7,
   "metadata": {},
   "outputs": [],
   "source": [
    "# Your code goes here."
   ]
  },
  {
   "cell_type": "markdown",
   "metadata": {},
   "source": [
    "## Conclusion\n",
    "\n",
    "_Include a summary of what you did in this lab, and what you learned._"
   ]
  },
  {
   "cell_type": "markdown",
   "metadata": {},
   "source": [
    "## Acknowlegements\n",
    "\n",
    "_In this section, in each lab, you should thank anyone who provided assistance. Also note anyone whom you helped._"
   ]
  },
  {
   "cell_type": "markdown",
   "metadata": {},
   "source": [
    "## References\n",
    "\n",
    "_If you relied on any external sources, including websites, you should include that as a bibliographic citation._"
   ]
  },
  {
   "cell_type": "markdown",
   "metadata": {},
   "source": [
    "_Check that you have followed all of the instructions and answered all the questions and that your report is in the specified format, alternating between exposition and code with output. Then upload your work to Moodle._"
   ]
  }
 ],
 "metadata": {
  "kernelspec": {
   "display_name": "Python 3",
   "language": "python",
   "name": "python3"
  },
  "language_info": {
   "codemirror_mode": {
    "name": "ipython",
    "version": 3
   },
   "file_extension": ".py",
   "mimetype": "text/x-python",
   "name": "python",
   "nbconvert_exporter": "python",
   "pygments_lexer": "ipython3",
   "version": "3.7.4"
  }
 },
 "nbformat": 4,
 "nbformat_minor": 2
}

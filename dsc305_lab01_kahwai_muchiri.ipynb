{
 "cells": [
  {
   "cell_type": "markdown",
   "metadata": {},
   "source": [
    "### Muchiri Kahwai. <br>\n",
    "### DSC 305 SPRING 2023. <br>\n",
    "### Lab 1: Getting Started\n"
   ]
  },
  {
   "cell_type": "code",
   "execution_count": 41,
   "metadata": {},
   "outputs": [],
   "source": [
    "# importing the necessary libraries\n",
    "import pandas as pd\n",
    "import numpy as np\n",
    "import re\n",
    "import math"
   ]
  },
  {
   "cell_type": "markdown",
   "metadata": {},
   "source": [
    "1. **Import [this data file](https://raw.githubusercontent.com/jasperdebie/VisInfo/master/us-state-capitals.csv) containing the U.S. states and capitals and their geolocation (latitude and longitude).**\n",
    "\n"
   ]
  },
  {
   "cell_type": "code",
   "execution_count": 5,
   "metadata": {},
   "outputs": [],
   "source": [
    "# Importing the file and reading the dataset.\n",
    "df = pd.read_csv('us-state-capitals.csv')"
   ]
  },
  {
   "cell_type": "markdown",
   "metadata": {},
   "source": [
    "2. **Look closely at your data.  Do you notice any problems?  If so, address them!**\n",
    "\n"
   ]
  },
  {
   "cell_type": "code",
   "execution_count": 6,
   "metadata": {},
   "outputs": [],
   "source": [
    "# Removing the br tags from the data. \n",
    "\n",
    "# Defining a regular expression that matches the <br> tags\n",
    "break_regex = re.compile(r'<br>') \n",
    "\n",
    "# Looping through the columns to remove the <br> tags\n",
    "for columns in df.columns:\n",
    "    df[columns] = df[columns].apply(lambda x: break_regex.sub('', str(x)))\n",
    "    \n",
    "# Writing the updated dataframe to a new csv file and removing the indexes.    \n",
    "df.to_csv('us-state-capitals-updated.csv', index=False)"
   ]
  },
  {
   "cell_type": "markdown",
   "metadata": {},
   "source": [
    "3. **Sort the capitals from west to east.**\n",
    "\n"
   ]
  },
  {
   "cell_type": "code",
   "execution_count": 33,
   "metadata": {},
   "outputs": [
    {
     "name": "stdout",
     "output_type": "stream",
     "text": [
      "         Hawaii,Honolulu\n",
      "           Alaska,Juneau\n",
      "            Oregon,Salem\n",
      "      Washington,Olympia\n",
      "   California,Sacramento\n",
      "      Nevada,Carson City\n",
      "             Idaho,Boise\n",
      "         Arizona,Phoenix\n",
      "          Montana,Helena\n",
      "     Utah,Salt Lake City\n",
      "     New Mexico,Santa Fe\n",
      "         Colorado,Denver\n",
      "        Wyoming,Cheyenne\n",
      "   North Dakota,Bismarck\n",
      "     South Dakota,Pierre\n",
      "            Texas,Austin\n",
      "  Oklahoma,Oklahoma City\n",
      "        Nebraska,Lincoln\n",
      "           Kansas,Topeka\n",
      "         Iowa,Des Moines\n",
      "      Minnesota,St. Paul\n",
      "    Arkansas,Little Rock\n",
      " Missouri,Jefferson City\n",
      "   Louisiana,Baton Rouge\n",
      "     Mississippi,Jackson\n",
      "    Illinois,Springfield\n",
      "       Wisconsin,Madison\n",
      "     Tennessee,Nashville\n",
      "      Alabama,Montgomery\n",
      "    Indiana,Indianapolis\n",
      "      Kentucky,Frankfort\n",
      "        Michigan,Lansing\n",
      "         Georgia,Atlanta\n",
      "     Florida,Tallahassee\n",
      "           Ohio,Columbus\n",
      "West Virginia,Charleston\n",
      " South Carolina,Columbia\n",
      "  North Carolina,Raleigh\n",
      "       Virginia,Richmond\n",
      " Pennsylvania,Harrisburg\n",
      "      Maryland,Annapolis\n",
      "          Delaware,Dover\n",
      "      New Jersey,Trenton\n",
      "         New York,Albany\n",
      "    Connecticut,Hartford\n",
      "      Vermont,Montpelier\n",
      "   New Hampshire,Concord\n",
      " Rhode Island,Providence\n",
      "    Massachusetts,Boston\n",
      "           Maine,Augusta\n"
     ]
    }
   ],
   "source": [
    "df = pd.read_csv('us-state-capitals-updated.csv')\n",
    "\n",
    "# Sorting the dataset based on longitude\n",
    "df_sortedlongitude = df.sort_values(by=['longitude'])\n",
    "\n",
    "# Combining the individual dataframes containing the state name and capital name\n",
    "df_combinedsortedlongitude = df_sortedlongitude['name'] + ',' + df_sortedlongitude [ 'description']\n",
    "\n",
    "print(df_combinedsortedlongitude.to_string(index=False))\n",
    "\n"
   ]
  },
  {
   "cell_type": "markdown",
   "metadata": {},
   "source": [
    "4. **Write a function, `distance(lat1, lon1, lat2, lon2)` that uses the [haversine formula](https://en.wikipedia.org/wiki/Haversine_formula) to estimate the distance between two locations (given as latitude and longitude, in _degrees_) on the earth's surface.**\n",
    "\n"
   ]
  },
  {
   "cell_type": "code",
   "execution_count": 42,
   "metadata": {},
   "outputs": [],
   "source": [
    "def distance(lat1, lon1, lat2, lon2):\n",
    "    \"\"\"\n",
    "    Calculate the distance between two points on the Earth's surface\n",
    "    given their latitudes and longitudes using the Haversine formula\n",
    "    \"\"\"\n",
    "    # Converting the given latitudes and longitudes to radians\n",
    "    \n",
    "    i_lat1, i_lon1, i_lat2, i_lon2 = map(math.radians, [lat1, lon1, lat2, lon2])\n",
    "                                 \n",
    "    \n",
    "    # Calculating the difference between the latitudes and longitudes\n",
    "    i_latdifference = i_lat2 - i_lat1\n",
    "    i_longdifference = i_lon2 - i_lon1\n",
    "    \n",
    "    # Calculating the square of the half chord length\n",
    "    i_halfchordlength = (math.sin(i_latdifference/2)**2) + (math.cos(i_lat1) * math.cos(i_lat2) * math.sin(i_longdifference/2)**2)\n",
    "    \n",
    "    # Calculating the angular distance\n",
    "    i_angulardistance = 2 * math.asin(math.sqrt(i_halfchordlength))                                                              \n",
    "     \n",
    "    # Hard coding the radius of the earth in miles                             \n",
    "    i_earthradius = 3959\n",
    "    \n",
    "    \n",
    "    return i_angulardistance * i_earthradius\n",
    "    "
   ]
  },
  {
   "cell_type": "markdown",
   "metadata": {},
   "source": [
    "5. **Use your function to compute the distance of every state capital from Danville, Kentucky.**"
   ]
  },
  {
   "cell_type": "code",
   "execution_count": 43,
   "metadata": {},
   "outputs": [
    {
     "name": "stdout",
     "output_type": "stream",
     "text": [
      "          name    description  Distance from Danville\n",
      "      Kentucky      Frankfort               37.810842\n",
      "     Tennessee      Nashville              151.034482\n",
      "       Indiana   Indianapolis              164.738166\n",
      " West Virginia     Charleston              178.559228\n",
      "          Ohio       Columbus              186.323139\n",
      "       Georgia        Atlanta              270.103703\n",
      "      Illinois    Springfield              302.282119\n",
      "South Carolina       Columbia              327.539504\n",
      "      Michigan        Lansing              351.756868\n",
      "North Carolina        Raleigh              363.253947\n",
      "       Alabama     Montgomery              374.116128\n",
      "      Virginia       Richmond              401.758881\n",
      "      Missouri Jefferson City              407.369809\n",
      "     Wisconsin        Madison              446.706353\n",
      "      Maryland      Annapolis              458.162400\n",
      "  Pennsylvania     Harrisburg              460.664254\n",
      "      Arkansas    Little Rock              464.355272\n",
      "   Mississippi        Jackson              479.444648\n",
      "       Florida    Tallahassee              498.809656\n",
      "      Delaware          Dover              511.549667\n",
      "          Iowa     Des Moines              542.996994\n",
      "    New Jersey        Trenton              565.913472\n",
      "        Kansas         Topeka              598.506960\n",
      "     Louisiana    Baton Rouge              617.368085\n",
      "     Minnesota       St. Paul              664.146124\n",
      "      Nebraska        Lincoln              674.126761\n",
      "      New York         Albany              676.025811\n",
      "   Connecticut       Hartford              702.052771\n",
      "      Oklahoma  Oklahoma City              721.399916\n",
      "  Rhode Island     Providence              765.324117\n",
      "       Vermont     Montpelier              782.107110\n",
      " New Hampshire        Concord              793.806302\n",
      " Massachusetts         Boston              794.076491\n",
      "         Texas         Austin              899.577848\n",
      "         Maine        Augusta              905.354173\n",
      "  South Dakota         Pierre              933.258187\n",
      "  North Dakota       Bismarck             1032.458464\n",
      "       Wyoming       Cheyenne             1094.798307\n",
      "      Colorado         Denver             1097.276076\n",
      "    New Mexico       Santa Fe             1178.529772\n",
      "          Utah Salt Lake City             1461.818861\n",
      "       Montana         Helena             1517.089194\n",
      "       Arizona        Phoenix             1557.589653\n",
      "         Idaho          Boise             1687.935960\n",
      "        Nevada    Carson City             1885.992648\n",
      "    California     Sacramento             1984.088450\n",
      "        Oregon          Salem             2028.895896\n",
      "    Washington        Olympia             2029.729332\n",
      "        Alaska         Juneau             2619.022510\n",
      "        Hawaii       Honolulu             4430.190791\n"
     ]
    }
   ],
   "source": [
    "df = pd.read_csv('us-state-capitals-updated.csv')\n",
    "\n",
    "# Hard coding the location of Danville\n",
    "i_lat_danville = 37.6456\n",
    "i_lon_danville = -84.7722\n",
    "\n",
    "# Creating an empty list for values of the distance from Danville\n",
    "l_i_distancefromDanville = []\n",
    "\n",
    "\n",
    "for i, row in df.iterrows():\n",
    "    i_distancefromDanville = distance(i_lat_danville,i_lon_danville, row['latitude'], row['longitude'])\n",
    "    \n",
    "    l_i_distancefromDanville.append(i_distancefromDanville)\n",
    "    \n",
    "# Adding the distances from Danville to the DataFrame\n",
    "df['Distance from Danville'] = l_i_distancefromDanville\n",
    "\n",
    "# sort the data by distance\n",
    "df_sorteddistancefromdanville = df.sort_values(by=['Distance from Danville'])\n",
    "\n",
    "# print the sorted data    \n",
    "print(df_sorteddistancefromdanville[['name', 'description', 'Distance from Danville']].to_string(index=False))\n"
   ]
  },
  {
   "cell_type": "markdown",
   "metadata": {},
   "source": [
    "6. **Which two U.S. capitals are farthest apart? Which two are closest together?**\n",
    "\n"
   ]
  },
  {
   "cell_type": "code",
   "execution_count": 44,
   "metadata": {},
   "outputs": [
    {
     "name": "stdout",
     "output_type": "stream",
     "text": [
      "The two U.S.A capitals that are farthest apart are: Honolulu and Augusta.The distance between them is = 5110.88628356615 miles\n",
      "The two U.S.A capitals that are closest apart are: Boston and Providence.The distance between them is = 40.64021789306985 miles\n"
     ]
    }
   ],
   "source": [
    "# Initializing counters for the furthest and closes distances.\n",
    "i_furthest_distance = 0\n",
    "i_closest_distance = float('inf')\n",
    "\n",
    "# Initializing placeholders for the furthest and closest pairs of capital we have looped over.\n",
    "s_furthest_capitals = ()\n",
    "s_closest_capitals = ()\n",
    "\n",
    "# A loop that goes through the data to find the pair of capitals that are furthest and closest to each other. \n",
    "for i, row1 in df.iterrows():\n",
    "    for j, row2 in df.iterrows():\n",
    "        if i == j:\n",
    "            continue\n",
    "        i_distance = distance(row1['latitude'], row1['longitude'], row2['latitude'], row2['longitude'])\n",
    "        if i_distance > i_furthest_distance :\n",
    "            i_furthest_distance = i_distance\n",
    "            s_furthest_capitals = (row1['description'], row2['description'])\n",
    "        if i_distance < i_closest_distance:\n",
    "            i_closest_distance = i_distance\n",
    "            s_closest_capitals = (row1['description'], row2['description'])\n",
    "\n",
    "print('The two U.S.A capitals that are farthest apart are: {} and {}.The distance between them is = {} miles'.format(s_furthest_capitals[0], s_furthest_capitals[1], i_furthest_distance))\n",
    "print('The two U.S.A capitals that are closest apart are: {} and {}.The distance between them is = {} miles'.format(s_closest_capitals[0], s_closest_capitals[1], i_closest_distance))\n",
    "\n"
   ]
  },
  {
   "cell_type": "markdown",
   "metadata": {},
   "source": [
    "## Conclusion\n",
    "\n",
    "In this project I used Python to preprocess and manipulate the data in order to make it more usable for analysis. This involved removing unwanted characters, converting data types, and combining different datasets together. I then sorted the capitals from the most westward capital to the most eastward capital. I then leveraged mathematical formulas and Python functions to calculate the distances and coordinates between different locations. This enabled me to find the distance of all the state capitals from Danville, Kentucky and to find which two state capitals are furthest from each other and which two are closest to each other. \n",
    "\n",
    "In this project I learned how to :\n",
    " 1. Import data from different sources, such as CSV files.\n",
    " 2. Manipulate data using Python. More specifically to manipulate data frames using Pandas.\n",
    " 3. Utilize different Python libraries for data analysis, such as Math, NumPy, Pandas.\n",
    " 4. How to work with Jupyter Notebook to write and run Python code"
   ]
  },
  {
   "cell_type": "markdown",
   "metadata": {},
   "source": [
    "## Acknowlegements\n",
    "\n",
    "I would like to express my gratitude to Dr. Zhang for graciously assisting me finish this project during his office hours. I would also like to thank Johnson, Sharon and Drew P. for helping me find bugs in my code. The insights and suggestions that they offered were invaluable and without them this project would not have been completed. "
   ]
  },
  {
   "cell_type": "markdown",
   "metadata": {},
   "source": [
    "## References\n",
    "\n",
    "_If you relied on any external sources, including websites, you should include that as a bibliographic citation._\n",
    "\n",
    "1. Python Documentation. \"math — Mathematical functions.\" Python 3.10.1 documentation, https://docs.python.org/3/library/math.html.\n",
    "\n",
    "2. Stack Overflow. \"How to remove html tags from a string in Python?\" Stack Overflow, https://stackoverflow.com/questions/9662346/how-to-remove-html-tags-from-a-string-in-python.\n",
    "\n",
    "3. W3Schools. \"Python RegEx.\" W3Schools, https://www.w3schools.com/python/python_regex.asp."
   ]
  }
 ],
 "metadata": {
  "kernelspec": {
   "display_name": "Python 3 (ipykernel)",
   "language": "python",
   "name": "python3"
  },
  "language_info": {
   "codemirror_mode": {
    "name": "ipython",
    "version": 3
   },
   "file_extension": ".py",
   "mimetype": "text/x-python",
   "name": "python",
   "nbconvert_exporter": "python",
   "pygments_lexer": "ipython3",
   "version": "3.10.0"
  }
 },
 "nbformat": 4,
 "nbformat_minor": 2
}
